{
 "cells": [
  {
   "cell_type": "code",
   "execution_count": null,
   "id": "5930322b",
   "metadata": {},
   "outputs": [],
   "source": [
    "import requests\n",
    "import time\n",
    "\n",
    "url = \"https://api.coindesk.com/v1/bpi/currentprice.json\"\n",
    "\n",
    "data_points = []  # List to store the collected data points\n",
    "\n",
    "# Collect data for 1 day at 5-minute intervals\n",
    "for _ in range(288):\n",
    "    response = requests.get(url)\n",
    "    if response.status_code == 200:\n",
    "        data = response.json()\n",
    "        price_usd = data[\"bpi\"][\"USD\"][\"rate_float\"]\n",
    "        price_gbp = data[\"bpi\"][\"GBP\"][\"rate_float\"]\n",
    "        timestamp = data[\"time\"][\"updatedISO\"]\n",
    "        data_points.append({\"timestamp\": timestamp, \"price_usd\": price_usd, \"price_gbp\": price_gbp})\n",
    "    time.sleep(300)  # Wait for 5 minutes (300 seconds)\n",
    "\n",
    "# Find the highest and lowest price without using min() or max() functions\n",
    "lowest_price = data_points[0]\n",
    "highest_price = data_points[0]\n",
    "\n",
    "for i in range(1, len(data_points)):\n",
    "    if data_points[i][\"price_usd\"] < lowest_price[\"price_usd\"]:\n",
    "        lowest_price = data_points[i]\n",
    "    if data_points[i][\"price_usd\"] > highest_price[\"price_usd\"]:\n",
    "        highest_price = data_points[i]\n",
    "\n",
    "print(\"Lowest price:\")\n",
    "print(f\"Timestamp: {lowest_price['timestamp']}\")\n",
    "print(f\"USD: {lowest_price['price_usd']}\")\n",
    "print(f\"GBP: {lowest_price['price_gbp']}\")\n",
    "\n",
    "print(\"\\nHighest price:\")\n",
    "print(f\"Timestamp: {highest_price['timestamp']}\")\n",
    "print(f\"USD: {highest_price['price_usd']}\")\n",
    "print(f\"GBP: {highest_price['price_gbp']}\")\n"
   ]
  },
  {
   "cell_type": "code",
   "execution_count": null,
   "id": "e557910a",
   "metadata": {},
   "outputs": [],
   "source": []
  }
 ],
 "metadata": {
  "kernelspec": {
   "display_name": "Python 3 (ipykernel)",
   "language": "python",
   "name": "python3"
  },
  "language_info": {
   "codemirror_mode": {
    "name": "ipython",
    "version": 3
   },
   "file_extension": ".py",
   "mimetype": "text/x-python",
   "name": "python",
   "nbconvert_exporter": "python",
   "pygments_lexer": "ipython3",
   "version": "3.10.9"
  }
 },
 "nbformat": 4,
 "nbformat_minor": 5
}
