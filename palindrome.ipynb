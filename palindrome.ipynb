{
 "cells": [
  {
   "cell_type": "code",
   "execution_count": 4,
   "id": "890d1237",
   "metadata": {},
   "outputs": [
    {
     "name": "stdout",
     "output_type": "stream",
     "text": [
      "Enter string valuefish\n",
      "No\n"
     ]
    }
   ],
   "source": [
    "# Recursive function to check if a\n",
    "# string is palindrome\n",
    "def isPalindrome(s):\n",
    "\n",
    "\t# to change it the string is similar case\n",
    "\ts = s.lower()\n",
    "\t# length of s\n",
    "\tl = len(s)\n",
    "\n",
    "\t# if length is less than 2\n",
    "\tif l < 2:\n",
    "\t\treturn True\n",
    "\n",
    "\t# If s[0] and s[l-1] are equal\n",
    "\telif s[0] == s[l - 1]:\n",
    "\n",
    "\t\t# Call is palindrome form substring(1,l-1)\n",
    "\t\treturn isPalindrome(s[1: l - 1])\n",
    "\n",
    "\telse:\n",
    "\t\treturn False\n",
    "\n",
    "# Driver Code\n",
    "s = input(\"Enter string value\")\n",
    "ans = isPalindrome(s)\n",
    "\n",
    "if ans:\n",
    "\tprint(\"Yes\")\n",
    "\n",
    "else:\n",
    "\tprint(\"No\")\n"
   ]
  },
  {
   "cell_type": "code",
   "execution_count": null,
   "id": "91496086",
   "metadata": {},
   "outputs": [],
   "source": []
  },
  {
   "cell_type": "code",
   "execution_count": null,
   "id": "ec5e53d6",
   "metadata": {},
   "outputs": [],
   "source": []
  },
  {
   "cell_type": "code",
   "execution_count": null,
   "id": "6723a3c1",
   "metadata": {},
   "outputs": [],
   "source": []
  }
 ],
 "metadata": {
  "kernelspec": {
   "display_name": "Python 3 (ipykernel)",
   "language": "python",
   "name": "python3"
  },
  "language_info": {
   "codemirror_mode": {
    "name": "ipython",
    "version": 3
   },
   "file_extension": ".py",
   "mimetype": "text/x-python",
   "name": "python",
   "nbconvert_exporter": "python",
   "pygments_lexer": "ipython3",
   "version": "3.10.9"
  }
 },
 "nbformat": 4,
 "nbformat_minor": 5
}
